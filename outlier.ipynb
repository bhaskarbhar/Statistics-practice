{
 "cells": [
  {
   "cell_type": "code",
   "execution_count": 2,
   "metadata": {},
   "outputs": [],
   "source": [
    "import numpy as np\n",
    "from matplotlib import pyplot as plt\n",
    "from scipy import stats"
   ]
  },
  {
   "cell_type": "code",
   "execution_count": 4,
   "metadata": {},
   "outputs": [
    {
     "data": {
      "text/plain": [
       "array([ 1,  2,  2,  2,  3,  3,  4,  5,  5,  5,  6,  6,  6,  6,  7,  8,  8,\n",
       "        9, 27])"
      ]
     },
     "execution_count": 4,
     "metadata": {},
     "output_type": "execute_result"
    }
   ],
   "source": [
    "#Dataset Creation\n",
    "dataset = np.array([1,2,2,2,3,3,4,5,5,5,6,6,6,6,7,8,8,9,27])\n",
    "dataset"
   ]
  },
  {
   "cell_type": "code",
   "execution_count": 8,
   "metadata": {},
   "outputs": [
    {
     "name": "stdout",
     "output_type": "stream",
     "text": [
      "3.0\n",
      "6.5\n",
      "3.5\n"
     ]
    }
   ],
   "source": [
    "#Finding Quartiles Q3, Q1 and IQR\n",
    "Q1 = np.percentile(dataset,25)\n",
    "Q3 = np.percentile(dataset,75)\n",
    "IQR = stats.iqr(dataset)\n",
    "print(Q1)\n",
    "print(Q3)\n",
    "print(IQR)"
   ]
  },
  {
   "cell_type": "code",
   "execution_count": 10,
   "metadata": {},
   "outputs": [
    {
     "name": "stdout",
     "output_type": "stream",
     "text": [
      "-2.25\n",
      "11.75\n"
     ]
    }
   ],
   "source": [
    "#Finding lower fence and higher fence\n",
    "lowerfence = Q1 - (1.5*IQR)\n",
    "higherfence = Q3 + (1.5*IQR)\n",
    "print(lowerfence)\n",
    "print(higherfence)"
   ]
  },
  {
   "cell_type": "code",
   "execution_count": 11,
   "metadata": {},
   "outputs": [
    {
     "data": {
      "text/plain": [
       "array([1, 2, 2, 2, 3, 3, 4, 5, 5, 5, 6, 6, 6, 6, 7, 8, 8, 9])"
      ]
     },
     "execution_count": 11,
     "metadata": {},
     "output_type": "execute_result"
    }
   ],
   "source": [
    "#removing outliers\n",
    "dataset = dataset[(dataset >= lowerfence) & (dataset <=higherfence)]\n",
    "dataset"
   ]
  },
  {
   "cell_type": "code",
   "execution_count": 15,
   "metadata": {},
   "outputs": [
    {
     "name": "stdout",
     "output_type": "stream",
     "text": [
      "Minimum: 1\n",
      "Q1: 3.0\n",
      "Median: 5.0\n",
      "Q3: 6.5\n",
      "Maximum: 9\n"
     ]
    }
   ],
   "source": [
    "#Printing the five number summary\n",
    "minimum = min(dataset)\n",
    "median_dataset = np.median(dataset)\n",
    "maximum = max(dataset)\n",
    "\n",
    "print(f\"Minimum: {minimum}\")\n",
    "print(f\"Q1: {Q1}\")\n",
    "print(f\"Median: {median_dataset}\")\n",
    "print(f\"Q3: {Q3}\")\n",
    "print(f\"Maximum: {maximum}\")"
   ]
  },
  {
   "cell_type": "code",
   "execution_count": 19,
   "metadata": {},
   "outputs": [
    {
     "data": {
      "image/png": "[encoded data removed]",
      "text/plain": [
       "<Figure size 800x600 with 1 Axes>"
      ]
     },
     "metadata": {},
     "output_type": "display_data"
    }
   ],
   "source": [
    "plt.figure(figsize=(8, 6))\n",
    "plt.boxplot(dataset,vert=False)\n",
    "plt.title(\"Boxplot\")\n",
    "plt.show()"
   ]
  }
 ],
 "metadata": {
  "kernelspec": {
   "display_name": "Python 3",
   "language": "python",
   "name": "python3"
  },
  "language_info": {
   "codemirror_mode": {
    "name": "ipython",
    "version": 3
   },
   "file_extension": ".py",
   "mimetype": "text/x-python",
   "name": "python",
   "nbconvert_exporter": "python",
   "pygments_lexer": "ipython3",
   "version": "3.10.11"
  }
 },
 "nbformat": 4,
 "nbformat_minor": 2
}
